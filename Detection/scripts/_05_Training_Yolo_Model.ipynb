{
  "nbformat": 4,
  "nbformat_minor": 0,
  "metadata": {
    "colab": {
      "provenance": [],
      "gpuType": "T4"
    },
    "kernelspec": {
      "name": "python3",
      "display_name": "Python 3"
    },
    "language_info": {
      "name": "python"
    },
    "accelerator": "GPU"
  },
  "cells": [
    {
      "cell_type": "markdown",
      "source": [
        "Gives access to Google Drive env"
      ],
      "metadata": {
        "id": "wT-Cc4jFTNMS"
      }
    },
    {
      "cell_type": "code",
      "execution_count": null,
      "metadata": {
        "colab": {
          "base_uri": "https://localhost:8080/"
        },
        "id": "iHpEGAjTJ-yA",
        "outputId": "56bd547a-aa4f-46b3-8e48-a44310e9fdf8"
      },
      "outputs": [
        {
          "output_type": "stream",
          "name": "stdout",
          "text": [
            "Mounted at /content/drive\n"
          ]
        }
      ],
      "source": [
        "from google.colab import drive\n",
        "drive.mount('/content/drive')"
      ]
    },
    {
      "cell_type": "markdown",
      "source": [
        "Installing Packages"
      ],
      "metadata": {
        "id": "RThJ9vzeTQ4V"
      }
    },
    {
      "cell_type": "code",
      "source": [
        "# Install the Ultralytics package (includes YOLOv8 framework)\n",
        "# This library provides tools for object detection, classification, and segmentation.\n",
        "# It will be used to train and evaluate our deep learning model efficiently.\n",
        "!pip install ultralytics"
      ],
      "metadata": {
        "colab": {
          "base_uri": "https://localhost:8080/"
        },
        "id": "C6qQAjAZKRha",
        "outputId": "3c0cee41-a747-4cc1-da7c-6480d06b6e75"
      },
      "execution_count": null,
      "outputs": [
        {
          "output_type": "stream",
          "name": "stdout",
          "text": [
            "Collecting ultralytics\n",
            "  Downloading ultralytics-8.3.217-py3-none-any.whl.metadata (37 kB)\n",
            "Requirement already satisfied: numpy>=1.23.0 in /usr/local/lib/python3.12/dist-packages (from ultralytics) (2.0.2)\n",
            "Requirement already satisfied: matplotlib>=3.3.0 in /usr/local/lib/python3.12/dist-packages (from ultralytics) (3.10.0)\n",
            "Requirement already satisfied: opencv-python>=4.6.0 in /usr/local/lib/python3.12/dist-packages (from ultralytics) (4.12.0.88)\n",
            "Requirement already satisfied: pillow>=7.1.2 in /usr/local/lib/python3.12/dist-packages (from ultralytics) (11.3.0)\n",
            "Requirement already satisfied: pyyaml>=5.3.1 in /usr/local/lib/python3.12/dist-packages (from ultralytics) (6.0.3)\n",
            "Requirement already satisfied: requests>=2.23.0 in /usr/local/lib/python3.12/dist-packages (from ultralytics) (2.32.4)\n",
            "Requirement already satisfied: scipy>=1.4.1 in /usr/local/lib/python3.12/dist-packages (from ultralytics) (1.16.2)\n",
            "Requirement already satisfied: torch>=1.8.0 in /usr/local/lib/python3.12/dist-packages (from ultralytics) (2.8.0+cu126)\n",
            "Requirement already satisfied: torchvision>=0.9.0 in /usr/local/lib/python3.12/dist-packages (from ultralytics) (0.23.0+cu126)\n",
            "Requirement already satisfied: psutil in /usr/local/lib/python3.12/dist-packages (from ultralytics) (5.9.5)\n",
            "Requirement already satisfied: polars in /usr/local/lib/python3.12/dist-packages (from ultralytics) (1.25.2)\n",
            "Collecting ultralytics-thop>=2.0.0 (from ultralytics)\n",
            "  Downloading ultralytics_thop-2.0.17-py3-none-any.whl.metadata (14 kB)\n",
            "Requirement already satisfied: contourpy>=1.0.1 in /usr/local/lib/python3.12/dist-packages (from matplotlib>=3.3.0->ultralytics) (1.3.3)\n",
            "Requirement already satisfied: cycler>=0.10 in /usr/local/lib/python3.12/dist-packages (from matplotlib>=3.3.0->ultralytics) (0.12.1)\n",
            "Requirement already satisfied: fonttools>=4.22.0 in /usr/local/lib/python3.12/dist-packages (from matplotlib>=3.3.0->ultralytics) (4.60.1)\n",
            "Requirement already satisfied: kiwisolver>=1.3.1 in /usr/local/lib/python3.12/dist-packages (from matplotlib>=3.3.0->ultralytics) (1.4.9)\n",
            "Requirement already satisfied: packaging>=20.0 in /usr/local/lib/python3.12/dist-packages (from matplotlib>=3.3.0->ultralytics) (25.0)\n",
            "Requirement already satisfied: pyparsing>=2.3.1 in /usr/local/lib/python3.12/dist-packages (from matplotlib>=3.3.0->ultralytics) (3.2.5)\n",
            "Requirement already satisfied: python-dateutil>=2.7 in /usr/local/lib/python3.12/dist-packages (from matplotlib>=3.3.0->ultralytics) (2.9.0.post0)\n",
            "Requirement already satisfied: charset_normalizer<4,>=2 in /usr/local/lib/python3.12/dist-packages (from requests>=2.23.0->ultralytics) (3.4.4)\n",
            "Requirement already satisfied: idna<4,>=2.5 in /usr/local/lib/python3.12/dist-packages (from requests>=2.23.0->ultralytics) (3.11)\n",
            "Requirement already satisfied: urllib3<3,>=1.21.1 in /usr/local/lib/python3.12/dist-packages (from requests>=2.23.0->ultralytics) (2.5.0)\n",
            "Requirement already satisfied: certifi>=2017.4.17 in /usr/local/lib/python3.12/dist-packages (from requests>=2.23.0->ultralytics) (2025.10.5)\n",
            "Requirement already satisfied: filelock in /usr/local/lib/python3.12/dist-packages (from torch>=1.8.0->ultralytics) (3.20.0)\n",
            "Requirement already satisfied: typing-extensions>=4.10.0 in /usr/local/lib/python3.12/dist-packages (from torch>=1.8.0->ultralytics) (4.15.0)\n",
            "Requirement already satisfied: setuptools in /usr/local/lib/python3.12/dist-packages (from torch>=1.8.0->ultralytics) (75.2.0)\n",
            "Requirement already satisfied: sympy>=1.13.3 in /usr/local/lib/python3.12/dist-packages (from torch>=1.8.0->ultralytics) (1.13.3)\n",
            "Requirement already satisfied: networkx in /usr/local/lib/python3.12/dist-packages (from torch>=1.8.0->ultralytics) (3.5)\n",
            "Requirement already satisfied: jinja2 in /usr/local/lib/python3.12/dist-packages (from torch>=1.8.0->ultralytics) (3.1.6)\n",
            "Requirement already satisfied: fsspec in /usr/local/lib/python3.12/dist-packages (from torch>=1.8.0->ultralytics) (2025.3.0)\n",
            "Requirement already satisfied: nvidia-cuda-nvrtc-cu12==12.6.77 in /usr/local/lib/python3.12/dist-packages (from torch>=1.8.0->ultralytics) (12.6.77)\n",
            "Requirement already satisfied: nvidia-cuda-runtime-cu12==12.6.77 in /usr/local/lib/python3.12/dist-packages (from torch>=1.8.0->ultralytics) (12.6.77)\n",
            "Requirement already satisfied: nvidia-cuda-cupti-cu12==12.6.80 in /usr/local/lib/python3.12/dist-packages (from torch>=1.8.0->ultralytics) (12.6.80)\n",
            "Requirement already satisfied: nvidia-cudnn-cu12==9.10.2.21 in /usr/local/lib/python3.12/dist-packages (from torch>=1.8.0->ultralytics) (9.10.2.21)\n",
            "Requirement already satisfied: nvidia-cublas-cu12==12.6.4.1 in /usr/local/lib/python3.12/dist-packages (from torch>=1.8.0->ultralytics) (12.6.4.1)\n",
            "Requirement already satisfied: nvidia-cufft-cu12==11.3.0.4 in /usr/local/lib/python3.12/dist-packages (from torch>=1.8.0->ultralytics) (11.3.0.4)\n",
            "Requirement already satisfied: nvidia-curand-cu12==10.3.7.77 in /usr/local/lib/python3.12/dist-packages (from torch>=1.8.0->ultralytics) (10.3.7.77)\n",
            "Requirement already satisfied: nvidia-cusolver-cu12==11.7.1.2 in /usr/local/lib/python3.12/dist-packages (from torch>=1.8.0->ultralytics) (11.7.1.2)\n",
            "Requirement already satisfied: nvidia-cusparse-cu12==12.5.4.2 in /usr/local/lib/python3.12/dist-packages (from torch>=1.8.0->ultralytics) (12.5.4.2)\n",
            "Requirement already satisfied: nvidia-cusparselt-cu12==0.7.1 in /usr/local/lib/python3.12/dist-packages (from torch>=1.8.0->ultralytics) (0.7.1)\n",
            "Requirement already satisfied: nvidia-nccl-cu12==2.27.3 in /usr/local/lib/python3.12/dist-packages (from torch>=1.8.0->ultralytics) (2.27.3)\n",
            "Requirement already satisfied: nvidia-nvtx-cu12==12.6.77 in /usr/local/lib/python3.12/dist-packages (from torch>=1.8.0->ultralytics) (12.6.77)\n",
            "Requirement already satisfied: nvidia-nvjitlink-cu12==12.6.85 in /usr/local/lib/python3.12/dist-packages (from torch>=1.8.0->ultralytics) (12.6.85)\n",
            "Requirement already satisfied: nvidia-cufile-cu12==1.11.1.6 in /usr/local/lib/python3.12/dist-packages (from torch>=1.8.0->ultralytics) (1.11.1.6)\n",
            "Requirement already satisfied: triton==3.4.0 in /usr/local/lib/python3.12/dist-packages (from torch>=1.8.0->ultralytics) (3.4.0)\n",
            "Requirement already satisfied: six>=1.5 in /usr/local/lib/python3.12/dist-packages (from python-dateutil>=2.7->matplotlib>=3.3.0->ultralytics) (1.17.0)\n",
            "Requirement already satisfied: mpmath<1.4,>=1.1.0 in /usr/local/lib/python3.12/dist-packages (from sympy>=1.13.3->torch>=1.8.0->ultralytics) (1.3.0)\n",
            "Requirement already satisfied: MarkupSafe>=2.0 in /usr/local/lib/python3.12/dist-packages (from jinja2->torch>=1.8.0->ultralytics) (3.0.3)\n",
            "Downloading ultralytics-8.3.217-py3-none-any.whl (1.1 MB)\n",
            "\u001b[2K   \u001b[90m━━━━━━━━━━━━━━━━━━━━━━━━━━━━━━━━━━━━━━━━\u001b[0m \u001b[32m1.1/1.1 MB\u001b[0m \u001b[31m20.3 MB/s\u001b[0m eta \u001b[36m0:00:00\u001b[0m\n",
            "\u001b[?25hDownloading ultralytics_thop-2.0.17-py3-none-any.whl (28 kB)\n",
            "Installing collected packages: ultralytics-thop, ultralytics\n",
            "Successfully installed ultralytics-8.3.217 ultralytics-thop-2.0.17\n"
          ]
        }
      ]
    },
    {
      "cell_type": "markdown",
      "source": [
        "Configuring and Unzipping the YOLO Training Dataset"
      ],
      "metadata": {
        "id": "AqFqDyiGT4aO"
      }
    },
    {
      "cell_type": "code",
      "source": [
        "# --- CONFIGURATION ---\n",
        "ZIP_FILE_NAME = \"My Yolo Detection DB.zip\"\n",
        "# ---------------------\n",
        "\n",
        "# Copy the zip file from Drive\n",
        "!cp \"/content/drive/MyDrive/{ZIP_FILE_NAME}\" \"/content/\"\n",
        "\n",
        "# Unzip\n",
        "!unzip -q \"/content/{ZIP_FILE_NAME}\" -d \"/content/\"\n",
        "\n",
        "print(f\" Successfully unzipped {ZIP_FILE_NAME} into /content/\")\n",
        "print(\"Your unzipped files are:\")\n",
        "!ls /content"
      ],
      "metadata": {
        "colab": {
          "base_uri": "https://localhost:8080/"
        },
        "id": "Xuzb2tD3KTtE",
        "outputId": "9ab2c006-1414-407d-afd3-692a5b1aa8fc"
      },
      "execution_count": null,
      "outputs": [
        {
          "output_type": "stream",
          "name": "stdout",
          "text": [
            " Successfully unzipped My Yolo Detection DB.zip into /content/\n",
            "Your unzipped files are:\n",
            " drive\t'My Yolo Detection DB'\t'My Yolo Detection DB.zip'   sample_data\n"
          ]
        }
      ]
    },
    {
      "cell_type": "markdown",
      "source": [
        "YAML Configuration Update for YOLO Dataset Paths"
      ],
      "metadata": {
        "id": "j87np3OsUC8L"
      }
    },
    {
      "cell_type": "code",
      "source": [
        "import yaml\n",
        "\n",
        "# --- CONFIGURATION ---\n",
        "PROJECT_FOLDER = \"My Yolo Detection DB\"\n",
        "YAML_FILE_NAME = \"v1_dataset.yaml\"\n",
        "DATASET_FOLDER_NAME = \"Image Detection - Dataset - Split\"\n",
        "\n",
        "\n",
        "yaml_file_path = f\"/content/{PROJECT_FOLDER}/{YAML_FILE_NAME}\"\n",
        "new_data_path = f\"/content/{PROJECT_FOLDER}/{DATASET_FOLDER_NAME}\"\n",
        "\n",
        "try:\n",
        "    with open(yaml_file_path, 'r') as f:\n",
        "        data = yaml.safe_load(f)\n",
        "\n",
        "    data['path'] = new_data_path\n",
        "\n",
        "    data['train'] = \"train/images\"\n",
        "    data['val'] = \"valid/images\"\n",
        "    data['test'] = \"test/images\"\n",
        "\n",
        "\n",
        "    with open(yaml_file_path, 'w') as f:\n",
        "        yaml.dump(data, f)\n",
        "\n",
        "    print(f\"Successfully updated {yaml_file_path}\")\n",
        "    print(\"--- New Content: ---\")\n",
        "    !cat {yaml_file_path}\n",
        "\n",
        "except Exception as e:\n",
        "    print(f\"ERROR: Could not find or update YAML file.\")\n",
        "    print(f\"Searched for: {yaml_file_path}\")"
      ],
      "metadata": {
        "colab": {
          "base_uri": "https://localhost:8080/"
        },
        "id": "Bp77p6QbKVKG",
        "outputId": "00a5a3e6-ceb2-4f29-8863-4dc64f0232a8"
      },
      "execution_count": null,
      "outputs": [
        {
          "output_type": "stream",
          "name": "stdout",
          "text": [
            "Successfully updated /content/My Yolo Detection DB/v1_dataset.yaml\n",
            "--- New Content: ---\n",
            "cat: /content/My: No such file or directory\n",
            "cat: Yolo: No such file or directory\n",
            "cat: Detection: No such file or directory\n",
            "cat: DB/v1_dataset.yaml: No such file or directory\n"
          ]
        }
      ]
    },
    {
      "cell_type": "markdown",
      "source": [
        "YOLOv8 Model Training Configuration and Execution"
      ],
      "metadata": {
        "id": "QiVggweYTinb"
      }
    },
    {
      "cell_type": "code",
      "source": [
        "\n",
        " !yolo task=detect mode=train \\\n",
        "    model=yolov8s.pt \\\n",
        "    data=\"/content/My Yolo Detection DB/v1_dataset.yaml\" \\\n",
        "    epochs=75 \\\n",
        "    imgsz=640 \\\n",
        "    project=\"/content/training_runs\" \\\n",
        "    name=\"fresh_train_v1\" \\\n",
        "    degrees=15.0 \\\n",
        "    hsv_s=0.5 \\\n",
        "    hsv_v=0.3 \\\n",
        "    fliplr=0.5 \\\n",
        "    flipud=0.0 \\\n",
        "    mosaic=1.0 \\\n",
        "    mixup=0.1"
      ],
      "metadata": {
        "colab": {
          "base_uri": "https://localhost:8080/",
          "height": 106
        },
        "id": "HEIK8USnKY1f",
        "outputId": "d352ba1b-3b32-47ab-ea04-07f2262ae34f"
      },
      "execution_count": null,
      "outputs": [
        {
          "output_type": "error",
          "ename": "IndentationError",
          "evalue": "unexpected indent (ipython-input-3413955695.py, line 2)",
          "traceback": [
            "\u001b[0;36m  File \u001b[0;32m\"/tmp/ipython-input-3413955695.py\"\u001b[0;36m, line \u001b[0;32m2\u001b[0m\n\u001b[0;31m    project=\"/content/training_runs\" \\\u001b[0m\n\u001b[0m    ^\u001b[0m\n\u001b[0;31mIndentationError\u001b[0m\u001b[0;31m:\u001b[0m unexpected indent\n"
          ]
        }
      ]
    },
    {
      "cell_type": "markdown",
      "source": [
        "Saving YOLO Training Results to Google Drive"
      ],
      "metadata": {
        "id": "WmWq8ZJTUV5C"
      }
    },
    {
      "cell_type": "code",
      "source": [
        "# Create a folder in your Drive to store all results\n",
        "!mkdir -p \"/content/drive/MyDrive/YOLO_Fresh_Training_Results\"\n",
        "\n",
        "# Copy the entire run folder over\n",
        "!cp -r \"/content/training_runs\" \"/content/drive/MyDrive/YOLO_Fresh_Training_Results/\"\n",
        "\n",
        "print(\"Training complete!\")\n",
        "print(\"Your new results (including 'best.pt') are saved to 'YOLO_Fresh_Training_Results' in your Google Drive.\")"
      ],
      "metadata": {
        "id": "Wyf2hfFpKcxk"
      },
      "execution_count": null,
      "outputs": []
    }
  ]
}