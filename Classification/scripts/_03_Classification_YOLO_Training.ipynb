{
  "nbformat": 4,
  "nbformat_minor": 0,
  "metadata": {
    "colab": {
      "provenance": [],
      "gpuType": "T4"
    },
    "kernelspec": {
      "name": "python3",
      "display_name": "Python 3"
    },
    "language_info": {
      "name": "python"
    },
    "accelerator": "GPU"
  },
  "cells": [
    {
      "cell_type": "code",
      "execution_count": 1,
      "metadata": {
        "colab": {
          "base_uri": "https://localhost:8080/"
        },
        "id": "ezeHiDo7zrRN",
        "outputId": "440f7738-c2c3-4440-8491-bbcab0d16711"
      },
      "outputs": [
        {
          "output_type": "stream",
          "name": "stdout",
          "text": [
            "Mounted at /content/drive\n"
          ]
        }
      ],
      "source": [
        "# ================================\n",
        "# Google Drive & Dataset unzip\n",
        "# ================================\n",
        "from google.colab import drive\n",
        "drive.mount('/content/drive')"
      ]
    },
    {
      "cell_type": "code",
      "source": [
        "!unzip -q /content/drive/MyDrive/Final_Dataset.zip -d /content/"
      ],
      "metadata": {
        "id": "TB4i5kHzz2El"
      },
      "execution_count": 2,
      "outputs": []
    },
    {
      "cell_type": "code",
      "source": [
        "# ================================\n",
        "# YOLOv8 (Classification) Setup\n",
        "# ================================\n",
        "\n",
        "!pip install ultralytics\n"
      ],
      "metadata": {
        "colab": {
          "base_uri": "https://localhost:8080/"
        },
        "id": "t-X8RRtGz4YY",
        "outputId": "9eb903fe-1c8e-45d6-8962-c9dda5fbe4d4"
      },
      "execution_count": 3,
      "outputs": [
        {
          "output_type": "stream",
          "name": "stdout",
          "text": [
            "Collecting ultralytics\n",
            "  Downloading ultralytics-8.3.221-py3-none-any.whl.metadata (37 kB)\n",
            "Requirement already satisfied: numpy>=1.23.0 in /usr/local/lib/python3.12/dist-packages (from ultralytics) (2.0.2)\n",
            "Requirement already satisfied: matplotlib>=3.3.0 in /usr/local/lib/python3.12/dist-packages (from ultralytics) (3.10.0)\n",
            "Requirement already satisfied: opencv-python>=4.6.0 in /usr/local/lib/python3.12/dist-packages (from ultralytics) (4.12.0.88)\n",
            "Requirement already satisfied: pillow>=7.1.2 in /usr/local/lib/python3.12/dist-packages (from ultralytics) (11.3.0)\n",
            "Requirement already satisfied: pyyaml>=5.3.1 in /usr/local/lib/python3.12/dist-packages (from ultralytics) (6.0.3)\n",
            "Requirement already satisfied: requests>=2.23.0 in /usr/local/lib/python3.12/dist-packages (from ultralytics) (2.32.4)\n",
            "Requirement already satisfied: scipy>=1.4.1 in /usr/local/lib/python3.12/dist-packages (from ultralytics) (1.16.2)\n",
            "Requirement already satisfied: torch>=1.8.0 in /usr/local/lib/python3.12/dist-packages (from ultralytics) (2.8.0+cu126)\n",
            "Requirement already satisfied: torchvision>=0.9.0 in /usr/local/lib/python3.12/dist-packages (from ultralytics) (0.23.0+cu126)\n",
            "Requirement already satisfied: psutil in /usr/local/lib/python3.12/dist-packages (from ultralytics) (5.9.5)\n",
            "Requirement already satisfied: polars in /usr/local/lib/python3.12/dist-packages (from ultralytics) (1.25.2)\n",
            "Collecting ultralytics-thop>=2.0.0 (from ultralytics)\n",
            "  Downloading ultralytics_thop-2.0.17-py3-none-any.whl.metadata (14 kB)\n",
            "Requirement already satisfied: contourpy>=1.0.1 in /usr/local/lib/python3.12/dist-packages (from matplotlib>=3.3.0->ultralytics) (1.3.3)\n",
            "Requirement already satisfied: cycler>=0.10 in /usr/local/lib/python3.12/dist-packages (from matplotlib>=3.3.0->ultralytics) (0.12.1)\n",
            "Requirement already satisfied: fonttools>=4.22.0 in /usr/local/lib/python3.12/dist-packages (from matplotlib>=3.3.0->ultralytics) (4.60.1)\n",
            "Requirement already satisfied: kiwisolver>=1.3.1 in /usr/local/lib/python3.12/dist-packages (from matplotlib>=3.3.0->ultralytics) (1.4.9)\n",
            "Requirement already satisfied: packaging>=20.0 in /usr/local/lib/python3.12/dist-packages (from matplotlib>=3.3.0->ultralytics) (25.0)\n",
            "Requirement already satisfied: pyparsing>=2.3.1 in /usr/local/lib/python3.12/dist-packages (from matplotlib>=3.3.0->ultralytics) (3.2.5)\n",
            "Requirement already satisfied: python-dateutil>=2.7 in /usr/local/lib/python3.12/dist-packages (from matplotlib>=3.3.0->ultralytics) (2.9.0.post0)\n",
            "Requirement already satisfied: charset_normalizer<4,>=2 in /usr/local/lib/python3.12/dist-packages (from requests>=2.23.0->ultralytics) (3.4.4)\n",
            "Requirement already satisfied: idna<4,>=2.5 in /usr/local/lib/python3.12/dist-packages (from requests>=2.23.0->ultralytics) (3.11)\n",
            "Requirement already satisfied: urllib3<3,>=1.21.1 in /usr/local/lib/python3.12/dist-packages (from requests>=2.23.0->ultralytics) (2.5.0)\n",
            "Requirement already satisfied: certifi>=2017.4.17 in /usr/local/lib/python3.12/dist-packages (from requests>=2.23.0->ultralytics) (2025.10.5)\n",
            "Requirement already satisfied: filelock in /usr/local/lib/python3.12/dist-packages (from torch>=1.8.0->ultralytics) (3.20.0)\n",
            "Requirement already satisfied: typing-extensions>=4.10.0 in /usr/local/lib/python3.12/dist-packages (from torch>=1.8.0->ultralytics) (4.15.0)\n",
            "Requirement already satisfied: setuptools in /usr/local/lib/python3.12/dist-packages (from torch>=1.8.0->ultralytics) (75.2.0)\n",
            "Requirement already satisfied: sympy>=1.13.3 in /usr/local/lib/python3.12/dist-packages (from torch>=1.8.0->ultralytics) (1.13.3)\n",
            "Requirement already satisfied: networkx in /usr/local/lib/python3.12/dist-packages (from torch>=1.8.0->ultralytics) (3.5)\n",
            "Requirement already satisfied: jinja2 in /usr/local/lib/python3.12/dist-packages (from torch>=1.8.0->ultralytics) (3.1.6)\n",
            "Requirement already satisfied: fsspec in /usr/local/lib/python3.12/dist-packages (from torch>=1.8.0->ultralytics) (2025.3.0)\n",
            "Requirement already satisfied: nvidia-cuda-nvrtc-cu12==12.6.77 in /usr/local/lib/python3.12/dist-packages (from torch>=1.8.0->ultralytics) (12.6.77)\n",
            "Requirement already satisfied: nvidia-cuda-runtime-cu12==12.6.77 in /usr/local/lib/python3.12/dist-packages (from torch>=1.8.0->ultralytics) (12.6.77)\n",
            "Requirement already satisfied: nvidia-cuda-cupti-cu12==12.6.80 in /usr/local/lib/python3.12/dist-packages (from torch>=1.8.0->ultralytics) (12.6.80)\n",
            "Requirement already satisfied: nvidia-cudnn-cu12==9.10.2.21 in /usr/local/lib/python3.12/dist-packages (from torch>=1.8.0->ultralytics) (9.10.2.21)\n",
            "Requirement already satisfied: nvidia-cublas-cu12==12.6.4.1 in /usr/local/lib/python3.12/dist-packages (from torch>=1.8.0->ultralytics) (12.6.4.1)\n",
            "Requirement already satisfied: nvidia-cufft-cu12==11.3.0.4 in /usr/local/lib/python3.12/dist-packages (from torch>=1.8.0->ultralytics) (11.3.0.4)\n",
            "Requirement already satisfied: nvidia-curand-cu12==10.3.7.77 in /usr/local/lib/python3.12/dist-packages (from torch>=1.8.0->ultralytics) (10.3.7.77)\n",
            "Requirement already satisfied: nvidia-cusolver-cu12==11.7.1.2 in /usr/local/lib/python3.12/dist-packages (from torch>=1.8.0->ultralytics) (11.7.1.2)\n",
            "Requirement already satisfied: nvidia-cusparse-cu12==12.5.4.2 in /usr/local/lib/python3.12/dist-packages (from torch>=1.8.0->ultralytics) (12.5.4.2)\n",
            "Requirement already satisfied: nvidia-cusparselt-cu12==0.7.1 in /usr/local/lib/python3.12/dist-packages (from torch>=1.8.0->ultralytics) (0.7.1)\n",
            "Requirement already satisfied: nvidia-nccl-cu12==2.27.3 in /usr/local/lib/python3.12/dist-packages (from torch>=1.8.0->ultralytics) (2.27.3)\n",
            "Requirement already satisfied: nvidia-nvtx-cu12==12.6.77 in /usr/local/lib/python3.12/dist-packages (from torch>=1.8.0->ultralytics) (12.6.77)\n",
            "Requirement already satisfied: nvidia-nvjitlink-cu12==12.6.85 in /usr/local/lib/python3.12/dist-packages (from torch>=1.8.0->ultralytics) (12.6.85)\n",
            "Requirement already satisfied: nvidia-cufile-cu12==1.11.1.6 in /usr/local/lib/python3.12/dist-packages (from torch>=1.8.0->ultralytics) (1.11.1.6)\n",
            "Requirement already satisfied: triton==3.4.0 in /usr/local/lib/python3.12/dist-packages (from torch>=1.8.0->ultralytics) (3.4.0)\n",
            "Requirement already satisfied: six>=1.5 in /usr/local/lib/python3.12/dist-packages (from python-dateutil>=2.7->matplotlib>=3.3.0->ultralytics) (1.17.0)\n",
            "Requirement already satisfied: mpmath<1.4,>=1.1.0 in /usr/local/lib/python3.12/dist-packages (from sympy>=1.13.3->torch>=1.8.0->ultralytics) (1.3.0)\n",
            "Requirement already satisfied: MarkupSafe>=2.0 in /usr/local/lib/python3.12/dist-packages (from jinja2->torch>=1.8.0->ultralytics) (3.0.3)\n",
            "Downloading ultralytics-8.3.221-py3-none-any.whl (1.1 MB)\n",
            "\u001b[2K   \u001b[90m━━━━━━━━━━━━━━━━━━━━━━━━━━━━━━━━━━━━━━━━\u001b[0m \u001b[32m1.1/1.1 MB\u001b[0m \u001b[31m73.4 MB/s\u001b[0m eta \u001b[36m0:00:00\u001b[0m\n",
            "\u001b[?25hDownloading ultralytics_thop-2.0.17-py3-none-any.whl (28 kB)\n",
            "Installing collected packages: ultralytics-thop, ultralytics\n",
            "Successfully installed ultralytics-8.3.221 ultralytics-thop-2.0.17\n"
          ]
        }
      ]
    },
    {
      "cell_type": "code",
      "source": [
        "import os, shutil, glob, time\n",
        "import torch\n",
        "from ultralytics import YOLO"
      ],
      "metadata": {
        "colab": {
          "base_uri": "https://localhost:8080/"
        },
        "id": "LsypqaCu1MDb",
        "outputId": "ba7dd957-2773-4c88-854f-bc9332451077"
      },
      "execution_count": 4,
      "outputs": [
        {
          "output_type": "stream",
          "name": "stdout",
          "text": [
            "Creating new Ultralytics Settings v0.0.6 file ✅ \n",
            "View Ultralytics Settings with 'yolo settings' or at '/root/.config/Ultralytics/settings.json'\n",
            "Update Settings with 'yolo settings key=value', i.e. 'yolo settings runs_dir=path/to/dir'. For help see https://docs.ultralytics.com/quickstart/#ultralytics-settings.\n"
          ]
        }
      ]
    },
    {
      "cell_type": "code",
      "source": [
        "# ==========================================================\n",
        "# ================ CONFIGURATION PARAMETERS ================\n",
        "# ==========================================================\n",
        "DATA_DIR = '/content/Final_Dataset'  # expects subfolders: train/, validation/ (or val/), test/ (optional)\n",
        "RUNS_PROJECT = 'runs/classify'\n",
        "RUN_NAME = 'office_cls_v1'\n",
        "MODEL_SAVE_PATH = '/content/drive/MyDrive/office_item_classifier_yolov8cls.pt'  # final copy to Drive\n",
        "\n",
        "NUM_EPOCHS = 25        # keep same as your ResNet script\n",
        "BATCH_SIZE = 32\n",
        "IMG_SIZE = 224         # common for cls; 224–320 works well\n",
        "DEVICE = '0' if torch.cuda.is_available() else 'cpu'  # GPU if available"
      ],
      "metadata": {
        "id": "3O2UHzKX0GrW"
      },
      "execution_count": 5,
      "outputs": []
    },
    {
      "cell_type": "code",
      "source": [
        "# ==========================================================\n",
        "# ============== DATASET FOLDER NORMALISATION =============\n",
        "# ==========================================================\n",
        "train_dir = os.path.join(DATA_DIR, 'train')\n",
        "val_dir_src = os.path.join(DATA_DIR, 'validation')\n",
        "val_dir = os.path.join(DATA_DIR, 'val')\n",
        "\n",
        "if os.path.isdir(val_dir_src) and not os.path.exists(val_dir):\n",
        "    os.symlink(val_dir_src, val_dir)\n",
        "\n",
        "# Verify class folders exist under train\n",
        "assert os.path.isdir(train_dir), \"train/ folder not found inside Final_Dataset\"\n",
        "assert os.path.isdir(val_dir) or os.path.isdir(val_dir_src), \"val/ or validation/ folder not found\"\n",
        "\n",
        "# (Optional) Show detected classes from train subfolders\n",
        "classes = sorted([d for d in os.listdir(train_dir) if os.path.isdir(os.path.join(train_dir, d))])\n",
        "print(f\"Detected classes ({len(classes)}): {classes}\")"
      ],
      "metadata": {
        "colab": {
          "base_uri": "https://localhost:8080/"
        },
        "id": "lVSogCsw0Kxs",
        "outputId": "b0422c18-978b-480b-eeb4-39bc6e4efb77"
      },
      "execution_count": 6,
      "outputs": [
        {
          "output_type": "stream",
          "name": "stdout",
          "text": [
            "Detected classes (10): ['chair', 'desk lamp', 'headphones', 'keyboard', 'monitor', 'mouse', 'mug', 'notepad', 'pen', 'table']\n"
          ]
        }
      ]
    },
    {
      "cell_type": "code",
      "source": [
        "# ==========================================================\n",
        "# ================ LOAD PRETRAINED YOLOv8-CLS ==============\n",
        "# ==========================================================\n",
        "model = YOLO('yolov8s-cls.pt')"
      ],
      "metadata": {
        "colab": {
          "base_uri": "https://localhost:8080/"
        },
        "id": "9wZIpdOv0Rt3",
        "outputId": "4e1c9c5e-2de3-49a5-cf8c-16260b362f47"
      },
      "execution_count": 7,
      "outputs": [
        {
          "output_type": "stream",
          "name": "stdout",
          "text": [
            "\u001b[KDownloading https://github.com/ultralytics/assets/releases/download/v8.3.0/yolov8s-cls.pt to 'yolov8s-cls.pt': 100% ━━━━━━━━━━━━ 12.3MB 22.1MB/s 0.6s\n"
          ]
        }
      ]
    },
    {
      "cell_type": "code",
      "source": [
        "# ==========================================================\n",
        "# =================== TRAIN YOLOv8-CLS =====================\n",
        "# ==========================================================\n",
        "# This replaces the manual training loop. Ultralytics handles:\n",
        "# - augmentations\n",
        "# - class weighting (implicitly via sampling & loss)\n",
        "# - metrics (top1/top5)\n",
        "# - best/last checkpoints\n",
        "print(\"\\n[YOLOv8-CLS] Starting training...\")\n",
        "start_time = time.time()\n",
        "\n",
        "results = model.train(\n",
        "    data=DATA_DIR,          # Root folder that contains train/ and val/\n",
        "    epochs=NUM_EPOCHS,\n",
        "    imgsz=IMG_SIZE,\n",
        "    batch=BATCH_SIZE,\n",
        "    device=DEVICE,\n",
        "    project=RUNS_PROJECT,\n",
        "    name=RUN_NAME,\n",
        "    pretrained=True,        # use ImageNet pretraining\n",
        "    verbose=True,\n",
        ")\n",
        "\n",
        "elapsed = time.time() - start_time\n",
        "print(f\"\\n--- Training Complete in {elapsed//60:.0f}m {elapsed%60:.0f}s ---\")\n",
        "\n",
        "# Locate best weights (Ultralytics always saves to runs/classify/<name>/weights/best.pt)\n",
        "save_dir = results.save_dir if hasattr(results, 'save_dir') else os.path.join(RUNS_PROJECT, RUN_NAME)\n",
        "best_weights = os.path.join(str(save_dir), 'weights', 'best.pt')\n",
        "print(f\"Best model: {best_weights}\")\n",
        "\n",
        "# Copy best weights to Drive with your preferred filename\n",
        "shutil.copy(best_weights, MODEL_SAVE_PATH)\n",
        "print(f\"Copied best weights to: {MODEL_SAVE_PATH}\")"
      ],
      "metadata": {
        "colab": {
          "base_uri": "https://localhost:8080/"
        },
        "id": "PrztRd8p0bBE",
        "outputId": "d1fa9bd5-e067-4f57-9372-4173d49c0b3a"
      },
      "execution_count": 8,
      "outputs": [
        {
          "output_type": "stream",
          "name": "stdout",
          "text": [
            "\n",
            "[YOLOv8-CLS] Starting training...\n",
            "Ultralytics 8.3.221 🚀 Python-3.12.12 torch-2.8.0+cu126 CUDA:0 (Tesla T4, 15095MiB)\n",
            "\u001b[34m\u001b[1mengine/trainer: \u001b[0magnostic_nms=False, amp=True, augment=False, auto_augment=randaugment, batch=32, bgr=0.0, box=7.5, cache=False, cfg=None, classes=None, close_mosaic=10, cls=0.5, compile=False, conf=None, copy_paste=0.0, copy_paste_mode=flip, cos_lr=False, cutmix=0.0, data=/content/Final_Dataset, degrees=0.0, deterministic=True, device=0, dfl=1.5, dnn=False, dropout=0.0, dynamic=False, embed=None, epochs=25, erasing=0.4, exist_ok=False, fliplr=0.5, flipud=0.0, format=torchscript, fraction=1.0, freeze=None, half=False, hsv_h=0.015, hsv_s=0.7, hsv_v=0.4, imgsz=224, int8=False, iou=0.7, keras=False, kobj=1.0, line_width=None, lr0=0.01, lrf=0.01, mask_ratio=4, max_det=300, mixup=0.0, mode=train, model=yolov8s-cls.pt, momentum=0.937, mosaic=1.0, multi_scale=False, name=office_cls_v1, nbs=64, nms=False, opset=None, optimize=False, optimizer=auto, overlap_mask=True, patience=100, perspective=0.0, plots=True, pose=12.0, pretrained=True, profile=False, project=runs/classify, rect=False, resume=False, retina_masks=False, save=True, save_conf=False, save_crop=False, save_dir=/content/runs/classify/office_cls_v1, save_frames=False, save_json=False, save_period=-1, save_txt=False, scale=0.5, seed=0, shear=0.0, show=False, show_boxes=True, show_conf=True, show_labels=True, simplify=True, single_cls=False, source=None, split=val, stream_buffer=False, task=classify, time=None, tracker=botsort.yaml, translate=0.1, val=True, verbose=True, vid_stride=1, visualize=False, warmup_bias_lr=0.1, warmup_epochs=3.0, warmup_momentum=0.8, weight_decay=0.0005, workers=8, workspace=None\n",
            "\u001b[34m\u001b[1mtrain:\u001b[0m /content/Final_Dataset/train... found 16702 images in 10 classes ✅ \n",
            "\u001b[34m\u001b[1mval:\u001b[0m /content/Final_Dataset/val... found 3577 images in 10 classes ✅ \n",
            "\u001b[34m\u001b[1mtest:\u001b[0m /content/Final_Dataset/test... found 3589 images in 10 classes ✅ \n",
            "Overriding model.yaml nc=1000 with nc=10\n",
            "\n",
            "                   from  n    params  module                                       arguments                     \n",
            "  0                  -1  1       928  ultralytics.nn.modules.conv.Conv             [3, 32, 3, 2]                 \n",
            "  1                  -1  1     18560  ultralytics.nn.modules.conv.Conv             [32, 64, 3, 2]                \n",
            "  2                  -1  1     29056  ultralytics.nn.modules.block.C2f             [64, 64, 1, True]             \n",
            "  3                  -1  1     73984  ultralytics.nn.modules.conv.Conv             [64, 128, 3, 2]               \n",
            "  4                  -1  2    197632  ultralytics.nn.modules.block.C2f             [128, 128, 2, True]           \n",
            "  5                  -1  1    295424  ultralytics.nn.modules.conv.Conv             [128, 256, 3, 2]              \n",
            "  6                  -1  2    788480  ultralytics.nn.modules.block.C2f             [256, 256, 2, True]           \n",
            "  7                  -1  1   1180672  ultralytics.nn.modules.conv.Conv             [256, 512, 3, 2]              \n",
            "  8                  -1  1   1838080  ultralytics.nn.modules.block.C2f             [512, 512, 1, True]           \n",
            "  9                  -1  1    670730  ultralytics.nn.modules.head.Classify         [512, 10]                     \n",
            "YOLOv8s-cls summary: 56 layers, 5,093,546 parameters, 5,093,546 gradients, 12.6 GFLOPs\n",
            "Transferred 156/158 items from pretrained weights\n",
            "\u001b[34m\u001b[1mAMP: \u001b[0mrunning Automatic Mixed Precision (AMP) checks...\n",
            "\u001b[KDownloading https://github.com/ultralytics/assets/releases/download/v8.3.0/yolo11n.pt to 'yolo11n.pt': 100% ━━━━━━━━━━━━ 5.4MB 272.7MB/s 0.0s\n",
            "\u001b[34m\u001b[1mAMP: \u001b[0mchecks passed ✅\n",
            "\u001b[34m\u001b[1mtrain: \u001b[0mFast image access ✅ (ping: 0.0±0.0 ms, read: 497.7±247.2 MB/s, size: 15.2 KB)\n",
            "\u001b[K\u001b[34m\u001b[1mtrain: \u001b[0mScanning /content/Final_Dataset/train... 16702 images, 0 corrupt: 100% ━━━━━━━━━━━━ 16702/16702 6.2Kit/s 2.7s\n",
            "\u001b[34m\u001b[1mtrain: \u001b[0mNew cache created: /content/Final_Dataset/train.cache\n",
            "\u001b[34m\u001b[1mval: \u001b[0mFast image access ✅ (ping: 0.0±0.0 ms, read: 970.9±334.1 MB/s, size: 26.8 KB)\n",
            "\u001b[K\u001b[34m\u001b[1mval: \u001b[0mScanning /content/Final_Dataset/val... 3577 images, 0 corrupt: 100% ━━━━━━━━━━━━ 3577/3577 2.6Kit/s 1.4s\n",
            "\u001b[34m\u001b[1mval: \u001b[0mNew cache created: /content/Final_Dataset/val.cache\n",
            "\u001b[34m\u001b[1moptimizer:\u001b[0m 'optimizer=auto' found, ignoring 'lr0=0.01' and 'momentum=0.937' and determining best 'optimizer', 'lr0' and 'momentum' automatically... \n",
            "\u001b[34m\u001b[1moptimizer:\u001b[0m AdamW(lr=0.000714, momentum=0.9) with parameter groups 26 weight(decay=0.0), 27 weight(decay=0.0005), 27 bias(decay=0.0)\n",
            "Image sizes 224 train, 224 val\n",
            "Using 2 dataloader workers\n",
            "Logging results to \u001b[1m/content/runs/classify/office_cls_v1\u001b[0m\n",
            "Starting training for 25 epochs...\n",
            "\n",
            "      Epoch    GPU_mem       loss  Instances       Size\n",
            "\u001b[KDownloading https://ultralytics.com/assets/Arial.ttf to '/root/.config/Ultralytics/Arial.ttf': 100% ━━━━━━━━━━━━ 755.1KB 22.7MB/s 0.0s\n",
            "\u001b[K       1/25     0.695G     0.9649         30        224: 100% ━━━━━━━━━━━━ 522/522 5.7it/s 1:31\n",
            "\u001b[K               classes   top1_acc   top5_acc: 100% ━━━━━━━━━━━━ 56/56 8.5it/s 6.6s\n",
            "                   all      0.928      0.996\n",
            "\n",
            "      Epoch    GPU_mem       loss  Instances       Size\n",
            "\u001b[K       2/25     0.881G     0.3141         30        224: 100% ━━━━━━━━━━━━ 522/522 6.0it/s 1:27\n",
            "\u001b[K               classes   top1_acc   top5_acc: 100% ━━━━━━━━━━━━ 56/56 9.9it/s 5.7s\n",
            "                   all      0.937      0.998\n",
            "\n",
            "      Epoch    GPU_mem       loss  Instances       Size\n",
            "\u001b[K       3/25     0.895G     0.2896         30        224: 100% ━━━━━━━━━━━━ 522/522 6.0it/s 1:27\n",
            "\u001b[K               classes   top1_acc   top5_acc: 100% ━━━━━━━━━━━━ 56/56 7.8it/s 7.2s\n",
            "                   all      0.938      0.998\n",
            "\n",
            "      Epoch    GPU_mem       loss  Instances       Size\n",
            "\u001b[K       4/25     0.906G      0.256         30        224: 100% ━━━━━━━━━━━━ 522/522 6.1it/s 1:26\n",
            "\u001b[K               classes   top1_acc   top5_acc: 100% ━━━━━━━━━━━━ 56/56 9.7it/s 5.8s\n",
            "                   all      0.939      0.998\n",
            "\n",
            "      Epoch    GPU_mem       loss  Instances       Size\n",
            "\u001b[K       5/25     0.918G     0.2257         30        224: 100% ━━━━━━━━━━━━ 522/522 6.0it/s 1:27\n",
            "\u001b[K               classes   top1_acc   top5_acc: 100% ━━━━━━━━━━━━ 56/56 7.8it/s 7.2s\n",
            "                   all      0.945      0.998\n",
            "\n",
            "      Epoch    GPU_mem       loss  Instances       Size\n",
            "\u001b[K       6/25     0.928G     0.1861         30        224: 100% ━━━━━━━━━━━━ 522/522 6.2it/s 1:25\n",
            "\u001b[K               classes   top1_acc   top5_acc: 100% ━━━━━━━━━━━━ 56/56 9.9it/s 5.7s\n",
            "                   all      0.942      0.998\n",
            "\n",
            "      Epoch    GPU_mem       loss  Instances       Size\n",
            "\u001b[K       7/25     0.941G     0.1665         30        224: 100% ━━━━━━━━━━━━ 522/522 6.1it/s 1:25\n",
            "\u001b[K               classes   top1_acc   top5_acc: 100% ━━━━━━━━━━━━ 56/56 7.9it/s 7.1s\n",
            "                   all      0.942      0.997\n",
            "\n",
            "      Epoch    GPU_mem       loss  Instances       Size\n",
            "\u001b[K       8/25      1.06G     0.1473         30        224: 100% ━━━━━━━━━━━━ 522/522 6.0it/s 1:28\n",
            "\u001b[K               classes   top1_acc   top5_acc: 100% ━━━━━━━━━━━━ 56/56 8.9it/s 6.3s\n",
            "                   all      0.949      0.998\n",
            "\n",
            "      Epoch    GPU_mem       loss  Instances       Size\n",
            "\u001b[K       9/25      1.07G     0.1419         30        224: 100% ━━━━━━━━━━━━ 522/522 6.1it/s 1:25\n",
            "\u001b[K               classes   top1_acc   top5_acc: 100% ━━━━━━━━━━━━ 56/56 8.6it/s 6.5s\n",
            "                   all      0.954      0.998\n",
            "\n",
            "      Epoch    GPU_mem       loss  Instances       Size\n",
            "\u001b[K      10/25      1.08G     0.1268         30        224: 100% ━━━━━━━━━━━━ 522/522 5.9it/s 1:29\n",
            "\u001b[K               classes   top1_acc   top5_acc: 100% ━━━━━━━━━━━━ 56/56 7.8it/s 7.2s\n",
            "                   all      0.953      0.999\n",
            "\n",
            "      Epoch    GPU_mem       loss  Instances       Size\n",
            "\u001b[K      11/25       1.1G     0.1091         30        224: 100% ━━━━━━━━━━━━ 522/522 6.1it/s 1:25\n",
            "\u001b[K               classes   top1_acc   top5_acc: 100% ━━━━━━━━━━━━ 56/56 9.8it/s 5.7s\n",
            "                   all      0.948      0.998\n",
            "\n",
            "      Epoch    GPU_mem       loss  Instances       Size\n",
            "\u001b[K      12/25      1.11G     0.1002         30        224: 100% ━━━━━━━━━━━━ 522/522 6.1it/s 1:25\n",
            "\u001b[K               classes   top1_acc   top5_acc: 100% ━━━━━━━━━━━━ 56/56 6.4it/s 8.8s\n",
            "                   all      0.951      0.999\n",
            "\n",
            "      Epoch    GPU_mem       loss  Instances       Size\n",
            "\u001b[K      13/25      1.12G    0.09683         30        224: 100% ━━━━━━━━━━━━ 522/522 6.1it/s 1:26\n",
            "\u001b[K               classes   top1_acc   top5_acc: 100% ━━━━━━━━━━━━ 56/56 9.7it/s 5.7s\n",
            "                   all      0.955      0.999\n",
            "\n",
            "      Epoch    GPU_mem       loss  Instances       Size\n",
            "\u001b[K      14/25      1.13G     0.0815         30        224: 100% ━━━━━━━━━━━━ 522/522 6.1it/s 1:25\n",
            "\u001b[K               classes   top1_acc   top5_acc: 100% ━━━━━━━━━━━━ 56/56 7.6it/s 7.4s\n",
            "                   all      0.958      0.998\n",
            "\n",
            "      Epoch    GPU_mem       loss  Instances       Size\n",
            "\u001b[K      15/25      1.25G    0.07506         30        224: 100% ━━━━━━━━━━━━ 522/522 5.8it/s 1:30\n",
            "\u001b[K               classes   top1_acc   top5_acc: 100% ━━━━━━━━━━━━ 56/56 7.8it/s 7.2s\n",
            "                   all      0.954      0.999\n",
            "\n",
            "      Epoch    GPU_mem       loss  Instances       Size\n",
            "\u001b[K      16/25      1.26G    0.07045         30        224: 100% ━━━━━━━━━━━━ 522/522 5.9it/s 1:28\n",
            "\u001b[K               classes   top1_acc   top5_acc: 100% ━━━━━━━━━━━━ 56/56 10.0it/s 5.6s\n",
            "                   all      0.955      0.998\n",
            "\n",
            "      Epoch    GPU_mem       loss  Instances       Size\n",
            "\u001b[K      17/25      1.27G    0.06075         30        224: 100% ━━━━━━━━━━━━ 522/522 5.8it/s 1:31\n",
            "\u001b[K               classes   top1_acc   top5_acc: 100% ━━━━━━━━━━━━ 56/56 9.9it/s 5.7s\n",
            "                   all      0.955      0.998\n",
            "\n",
            "      Epoch    GPU_mem       loss  Instances       Size\n",
            "\u001b[K      18/25      1.29G    0.06183         30        224: 100% ━━━━━━━━━━━━ 522/522 5.7it/s 1:31\n",
            "\u001b[K               classes   top1_acc   top5_acc: 100% ━━━━━━━━━━━━ 56/56 8.5it/s 6.6s\n",
            "                   all      0.958      0.998\n",
            "\n",
            "      Epoch    GPU_mem       loss  Instances       Size\n",
            "\u001b[K      19/25       1.3G    0.04863         30        224: 100% ━━━━━━━━━━━━ 522/522 5.9it/s 1:29\n",
            "\u001b[K               classes   top1_acc   top5_acc: 100% ━━━━━━━━━━━━ 56/56 7.1it/s 7.9s\n",
            "                   all      0.958      0.998\n",
            "\n",
            "      Epoch    GPU_mem       loss  Instances       Size\n",
            "\u001b[K      20/25      1.31G    0.04985         30        224: 100% ━━━━━━━━━━━━ 522/522 6.0it/s 1:27\n",
            "\u001b[K               classes   top1_acc   top5_acc: 100% ━━━━━━━━━━━━ 56/56 9.5it/s 5.9s\n",
            "                   all      0.954      0.999\n",
            "\n",
            "      Epoch    GPU_mem       loss  Instances       Size\n",
            "\u001b[K      21/25      1.44G    0.04274         30        224: 100% ━━━━━━━━━━━━ 522/522 6.0it/s 1:27\n",
            "\u001b[K               classes   top1_acc   top5_acc: 100% ━━━━━━━━━━━━ 56/56 7.6it/s 7.4s\n",
            "                   all      0.961      0.998\n",
            "\n",
            "      Epoch    GPU_mem       loss  Instances       Size\n",
            "\u001b[K      22/25      1.45G    0.04195         30        224: 100% ━━━━━━━━━━━━ 522/522 5.8it/s 1:30\n",
            "\u001b[K               classes   top1_acc   top5_acc: 100% ━━━━━━━━━━━━ 56/56 9.1it/s 6.1s\n",
            "                   all      0.961      0.998\n",
            "\n",
            "      Epoch    GPU_mem       loss  Instances       Size\n",
            "\u001b[K      23/25      1.46G    0.04153         30        224: 100% ━━━━━━━━━━━━ 522/522 5.9it/s 1:29\n",
            "\u001b[K               classes   top1_acc   top5_acc: 100% ━━━━━━━━━━━━ 56/56 8.9it/s 6.3s\n",
            "                   all       0.96      0.998\n",
            "\n",
            "      Epoch    GPU_mem       loss  Instances       Size\n",
            "\u001b[K      24/25      1.47G    0.03515         30        224: 100% ━━━━━━━━━━━━ 522/522 5.9it/s 1:29\n",
            "\u001b[K               classes   top1_acc   top5_acc: 100% ━━━━━━━━━━━━ 56/56 7.8it/s 7.2s\n",
            "                   all       0.96      0.998\n",
            "\n",
            "      Epoch    GPU_mem       loss  Instances       Size\n",
            "\u001b[K      25/25      1.49G    0.03313         30        224: 100% ━━━━━━━━━━━━ 522/522 6.0it/s 1:27\n",
            "\u001b[K               classes   top1_acc   top5_acc: 100% ━━━━━━━━━━━━ 56/56 9.0it/s 6.2s\n",
            "                   all      0.962      0.998\n",
            "\n",
            "25 epochs completed in 0.658 hours.\n",
            "Optimizer stripped from /content/runs/classify/office_cls_v1/weights/last.pt, 10.3MB\n",
            "Optimizer stripped from /content/runs/classify/office_cls_v1/weights/best.pt, 10.3MB\n",
            "\n",
            "Validating /content/runs/classify/office_cls_v1/weights/best.pt...\n",
            "Ultralytics 8.3.221 🚀 Python-3.12.12 torch-2.8.0+cu126 CUDA:0 (Tesla T4, 15095MiB)\n",
            "YOLOv8s-cls summary (fused): 30 layers, 5,088,010 parameters, 0 gradients, 12.5 GFLOPs\n",
            "\u001b[34m\u001b[1mtrain:\u001b[0m /content/Final_Dataset/train... found 16702 images in 10 classes ✅ \n",
            "\u001b[34m\u001b[1mval:\u001b[0m /content/Final_Dataset/val... found 3577 images in 10 classes ✅ \n",
            "\u001b[34m\u001b[1mtest:\u001b[0m /content/Final_Dataset/test... found 3589 images in 10 classes ✅ \n",
            "\u001b[K               classes   top1_acc   top5_acc: 100% ━━━━━━━━━━━━ 56/56 9.8it/s 5.7s\n",
            "                   all      0.962      0.998\n",
            "Speed: 0.1ms preprocess, 0.5ms inference, 0.0ms loss, 0.0ms postprocess per image\n",
            "Results saved to \u001b[1m/content/runs/classify/office_cls_v1\u001b[0m\n",
            "\n",
            "--- Training Complete in 39m 51s ---\n",
            "Best model: /content/runs/classify/office_cls_v1/weights/best.pt\n",
            "Copied best weights to: /content/drive/MyDrive/office_item_classifier_yolov8cls.pt\n"
          ]
        }
      ]
    },
    {
      "cell_type": "code",
      "source": [
        "# ==========================================================\n",
        "# ===================== EVALUATION =========================\n",
        "# ==========================================================\n",
        "# We validate on \"test/\" if present; otherwise Ultralytics defaults to val split.\n",
        "print(\"\\n[YOLOv8-CLS] Evaluating on test/ (if available)...\")\n",
        "split_to_use = 'test' if os.path.isdir(os.path.join(DATA_DIR, 'test')) else 'val'\n",
        "metrics = model.val(\n",
        "    data=DATA_DIR,\n",
        "    split=split_to_use,\n",
        "    imgsz=IMG_SIZE,\n",
        "    device=DEVICE\n",
        ")\n",
        "# metrics dict includes top1/top5 accuracy\n",
        "try:\n",
        "    print(f\"Top-1 Acc: {metrics.top1:.4f} | Top-5 Acc: {metrics.top5:.4f}\")\n",
        "except Exception:\n",
        "    print(\"Validation complete. (Metrics object printed below)\")\n",
        "    print(metrics)"
      ],
      "metadata": {
        "colab": {
          "base_uri": "https://localhost:8080/"
        },
        "id": "HH1Wf6Yw0hMs",
        "outputId": "fb4b4b43-9888-4d34-e45e-5853b4554701"
      },
      "execution_count": 9,
      "outputs": [
        {
          "output_type": "stream",
          "name": "stdout",
          "text": [
            "\n",
            "[YOLOv8-CLS] Evaluating on test/ (if available)...\n",
            "Ultralytics 8.3.221 🚀 Python-3.12.12 torch-2.8.0+cu126 CUDA:0 (Tesla T4, 15095MiB)\n",
            "YOLOv8s-cls summary (fused): 30 layers, 5,088,010 parameters, 0 gradients, 12.5 GFLOPs\n",
            "\u001b[34m\u001b[1mtrain:\u001b[0m /content/Final_Dataset/train... found 16702 images in 10 classes ✅ \n",
            "\u001b[34m\u001b[1mval:\u001b[0m /content/Final_Dataset/val... found 3577 images in 10 classes ✅ \n",
            "\u001b[34m\u001b[1mtest:\u001b[0m /content/Final_Dataset/test... found 3589 images in 10 classes ✅ \n",
            "\u001b[34m\u001b[1mtest: \u001b[0mFast image access ✅ (ping: 0.0±0.0 ms, read: 695.0±210.9 MB/s, size: 23.4 KB)\n",
            "\u001b[K\u001b[34m\u001b[1mtest: \u001b[0mScanning /content/Final_Dataset/test... 3589 images, 0 corrupt: 100% ━━━━━━━━━━━━ 3589/3589 6.0Kit/s 0.6s\n",
            "\u001b[34m\u001b[1mtest: \u001b[0mNew cache created: /content/Final_Dataset/test.cache\n",
            "\u001b[K               classes   top1_acc   top5_acc: 100% ━━━━━━━━━━━━ 225/225 33.6it/s 6.7s\n",
            "                   all      0.958      0.999\n",
            "Speed: 0.1ms preprocess, 0.8ms inference, 0.0ms loss, 0.0ms postprocess per image\n",
            "Results saved to \u001b[1m/content/runs/classify/val\u001b[0m\n",
            "Top-1 Acc: 0.9579 | Top-5 Acc: 0.9989\n"
          ]
        }
      ]
    }
  ]
}